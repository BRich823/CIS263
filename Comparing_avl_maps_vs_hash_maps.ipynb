{
  "nbformat": 4,
  "nbformat_minor": 0,
  "metadata": {
    "colab": {
      "provenance": [],
      "include_colab_link": true
    },
    "kernelspec": {
      "name": "python3",
      "display_name": "Python 3"
    },
    "language_info": {
      "name": "python"
    }
  },
  "cells": [
    {
      "cell_type": "markdown",
      "metadata": {
        "id": "view-in-github",
        "colab_type": "text"
      },
      "source": [
        "<a href=\"https://colab.research.google.com/github/BRich823/CIS263/blob/main/Comparing_avl_maps_vs_hash_maps.ipynb\" target=\"_parent\"><img src=\"https://colab.research.google.com/assets/colab-badge.svg\" alt=\"Open In Colab\"/></a>"
      ]
    },
    {
      "cell_type": "markdown",
      "source": [
        "# Comparing AVL Tree base maps and hash table based maps"
      ],
      "metadata": {
        "id": "jf7GumkgoOKg"
      }
    },
    {
      "cell_type": "code",
      "execution_count": 1,
      "metadata": {
        "colab": {
          "base_uri": "https://localhost:8080/"
        },
        "id": "ulTfmDt9n_uC",
        "outputId": "4485e0cd-dc45-47fc-8f28-79f8724d9727"
      },
      "outputs": [
        {
          "output_type": "stream",
          "name": "stdout",
          "text": [
            "Cloning into 'DSAP'...\n",
            "remote: Enumerating objects: 597, done.\u001b[K\n",
            "remote: Counting objects: 100% (597/597), done.\u001b[K\n",
            "remote: Compressing objects: 100% (313/313), done.\u001b[K\n",
            "remote: Total 597 (delta 363), reused 512 (delta 282), pack-reused 0 (from 0)\u001b[K\n",
            "Receiving objects: 100% (597/597), 115.05 KiB | 1.44 MiB/s, done.\n",
            "Resolving deltas: 100% (363/363), done.\n"
          ]
        }
      ],
      "source": [
        "!git clone https://github.com/goldwasser/DSAP.git"
      ]
    },
    {
      "cell_type": "code",
      "source": [
        "%%writefile DSAP/avl_vs_hash.py\n",
        "# Using AVL maps and hash maps\n",
        "\n",
        "from dsap.mapping.chain_hash_map import ChainHashMap\n",
        "from dsap.searchtree.avl_tree import AVLTreeMap\n",
        "\n",
        "import matplotlib.pyplot as plt\n",
        "import numpy as np\n",
        "import random\n",
        "import time\n",
        "\n",
        "def insert_in_avl(avl_map,elements):\n",
        "  for i in range(number_of_elements):\n",
        "    avl_map.__setitem__(elements[i],elements[i])\n",
        "\n",
        "def insert_in_hash(hash_map,elements):\n",
        "  for i in range(number_of_elements):\n",
        "    hash_map.__setitem__(elements[i],elements[i])\n",
        "\n",
        "\n",
        "if __name__ == \"__main__\":\n",
        "  # Generate the random numbers to insert\n",
        "\n",
        "  for number_of_elements in [1024, 2048, 3036, 4096]:\n",
        "    elements = np.zeros(number_of_elements,dtype=int)\n",
        "    totals = {'avlI': 0, 'avlL': 0, 'hashI': 0, 'hashL': 0}\n",
        "    for i in range(10):\n",
        "      for i in range(number_of_elements):\n",
        "        elements[i] = random.randint(0,number_of_elements*number_of_elements)\n",
        "\n",
        "      # Insert the elements in the AVLTreeMap and in the hashmap\n",
        "      avl_map = AVLTreeMap()\n",
        "      hash_map = ChainHashMap()\n",
        "      start_time = time.time()\n",
        "      insert_in_avl(avl_map,elements)\n",
        "      end_time = time.time()\n",
        "      execution_time = end_time - start_time\n",
        "      totals['avlI'] += execution_time\n",
        "\n",
        "      start_time = time.time()\n",
        "      insert_in_hash(hash_map,elements)\n",
        "      end_time = time.time()\n",
        "      execution_time = end_time - start_time\n",
        "      totals['hashI'] += execution_time\n",
        "\n",
        "    # Now compare the times required to look up for the elements\n",
        "      start_time = time.time()\n",
        "      for i in range(number_of_elements):\n",
        "        avl_map.__getitem__(elements[i])\n",
        "      end_time = time.time()\n",
        "      execution_time = end_time - start_time\n",
        "      totals['avlL'] += execution_time\n",
        "\n",
        "      start_time = time.time()\n",
        "      for i in range(number_of_elements):\n",
        "        hash_map.__getitem__(elements[i])\n",
        "      end_time = time.time()\n",
        "      execution_time = end_time - start_time\n",
        "      totals['hashL'] += execution_time\n",
        "\n",
        "    plt.plot(number_of_elements, totals['avlI'], color=\"green\")\n",
        "    plt.plot(number_of_elements, totals['avlL'], color=\"green\", linestyle='dashed')\n",
        "    plt.plot(number_of_elements, totals['hashI'], color=\"red\")\n",
        "    plt.plot(number_of_elements, totals['hashL'], color=\"red\", linestyle='dashed')\n",
        "\n",
        "  plt.xlabel(\"# of Elements\")\n",
        "  plt.ylabel(\"Execxecution Time\")\n",
        "  plt.title(\"Execution time\")\n",
        "  plt.show()\n"
      ],
      "metadata": {
        "colab": {
          "base_uri": "https://localhost:8080/"
        },
        "id": "yMSGyl2Hob4L",
        "outputId": "9e98c967-1657-487a-8862-87bb53aeb473"
      },
      "execution_count": 12,
      "outputs": [
        {
          "output_type": "stream",
          "name": "stdout",
          "text": [
            "Overwriting DSAP/avl_vs_hash.py\n"
          ]
        }
      ]
    },
    {
      "cell_type": "code",
      "source": [
        "!python DSAP/avl_vs_hash.py\n"
      ],
      "metadata": {
        "colab": {
          "base_uri": "https://localhost:8080/"
        },
        "id": "0771CgXLqi6J",
        "outputId": "ef8fd7c9-45d0-40e3-a257-e756a221f29e"
      },
      "execution_count": 14,
      "outputs": [
        {
          "output_type": "stream",
          "name": "stdout",
          "text": [
            "Figure(640x480)\n"
          ]
        }
      ]
    }
  ]
}